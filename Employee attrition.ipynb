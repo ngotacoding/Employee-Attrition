{
 "cells": [
  {
   "cell_type": "markdown",
   "id": "378abda1-9b4f-4677-b479-0bb2c869e519",
   "metadata": {},
   "source": [
    "# Employee attrition dataset Exploration"
   ]
  },
  {
   "cell_type": "markdown",
   "id": "ae01054c-fa4c-4903-b03c-ce18a9b7361e",
   "metadata": {},
   "source": [
    "## Problem Statement:\n",
    "The objective of this analysis is to identify key insights and provide actionable recommendations for reducing employee attrition in our organization. By analyzing various factors such as age, gender, marital status, business travel frequency, job-related parameters, and financial aspects, we aim to understand the underlying causes and potential solutions for attrition. The findings from this analysis will help inform decision-making and implement targeted strategies to improve employee retention and foster a positive work environment."
   ]
  },
  {
   "cell_type": "markdown",
   "id": "b19eed2f-120b-4937-82b1-398d16e418a2",
   "metadata": {},
   "source": [
    "## Import Libraries"
   ]
  },
  {
   "cell_type": "code",
   "execution_count": 1,
   "id": "0e05f274-bd5c-44e4-ae09-887e78512bb7",
   "metadata": {},
   "outputs": [],
   "source": [
    "import os\n",
    "import json\n",
    "import pickle\n",
    "import warnings\n",
    "import pandas as pd\n",
    "import numpy as np\n",
    "import matplotlib.pyplot as plt\n",
    "import seaborn as sns\n",
    "import scipy.stats as st\n",
    "from xgboost import XGBClassifier\n",
    "from lightgbm import LGBMClassifier\n",
    "from zipfile import ZipFile\n",
    "from sklearn.model_selection import train_test_split\n",
    "from sklearn.utils import shuffle\n",
    "from sklearn.pipeline import Pipeline\n",
    "from category_encoders import OrdinalEncoder\n",
    "from sklearn.preprocessing import StandardScaler\n",
    "from sklearn.linear_model import LogisticRegression\n",
    "from sklearn.model_selection import train_test_split, GridSearchCV\n",
    "from sklearn.metrics import f1_score, precision_score, recall_score, classification_report\n",
    "from sklearn.compose import ColumnTransformer\n",
    "from sklearn.ensemble import RandomForestClassifier\n",
    "\n",
    "\n",
    "%matplotlib inline\n",
    "plt.style.use('ggplot')\n",
    "warnings.filterwarnings('ignore')"
   ]
  },
  {
   "cell_type": "markdown",
   "id": "985fda1b-d8cb-45dd-a6a8-201b8ac2464f",
   "metadata": {},
   "source": [
    "## Data Collection"
   ]
  },
  {
   "cell_type": "markdown",
   "id": "48474a9b-1220-4851-853c-a364e9cfece7",
   "metadata": {},
   "source": [
    "### Get the Data From Kaggle using API"
   ]
  },
  {
   "cell_type": "code",
   "execution_count": 2,
   "id": "97bc343f-abe5-4169-8f6e-6fb7ea0b1763",
   "metadata": {
    "tags": []
   },
   "outputs": [],
   "source": [
    "# create the .kaggle directory and an empty kaggle.json file\n",
    "\n",
    "# Get the user's root directory\n",
    "root_directory = os.path.expanduser('~')\n",
    "\n",
    "# Create the directory path\n",
    "directory_path = os.path.join(root_directory, '.kaggle')\n",
    "\n",
    "# Create the directory\n",
    "os.makedirs(directory_path, exist_ok=True)\n",
    "\n",
    "# Create the file path (kaggle.json)\n",
    "file_path = os.path.join(directory_path, 'kaggle.json')\n",
    "\n",
    "# Create the file\n",
    "open(file_path, 'a').close()\n",
    "\n",
    "# Set file permissions\n",
    "os.chmod(file_path, 0o600)"
   ]
  },
  {
   "cell_type": "markdown",
   "id": "67be4b39-8045-4552-a507-27bf77a42acb",
   "metadata": {},
   "source": [
    "TO SET UP:  \n",
    "1. Create a Kaggle Account\n",
    "2. Once created, click on your avatar icon(top right) and click settings in the menu populated\n",
    "3. Under settings scroll down to API and click create new token\n",
    "4. Open the downloaded Kaggle.json file to get your username and key"
   ]
  },
  {
   "cell_type": "raw",
   "id": "3cba31ea-9290-4ef0-b92b-8f273a1008f5",
   "metadata": {
    "tags": []
   },
   "source": [
    "# First time running the notebook, use esc + y to activate this cell, then esc + r after first run\n",
    "# You can also ignore the cell if Kaggle.json is already set up in your environment\n",
    "\n",
    "# Fill in your user name and key from Kaggle.json file downloaded\n",
    "kaggle_username =  #\"FILL IN YOUR USERNAME\"\n",
    "kaggle_key =  #\"FILL IN KAGGLE API KEY\"\n",
    "\n",
    "# Save API token the kaggle.json file\n",
    "with open(file_path, \"w+\") as f:\n",
    "    f.write(json.dumps({\"username\": kaggle_username, \"key\": kaggle_key}))"
   ]
  },
  {
   "cell_type": "code",
   "execution_count": 3,
   "id": "fc764bdd-0c18-4bad-ae52-091efdd40972",
   "metadata": {
    "scrolled": true
   },
   "outputs": [
    {
     "name": "stdout",
     "output_type": "stream",
     "text": [
      "Requirement already satisfied: kaggle in /opt/conda/lib/python3.11/site-packages (1.5.13)\n",
      "Requirement already satisfied: six>=1.10 in /opt/conda/lib/python3.11/site-packages (from kaggle) (1.16.0)\n",
      "Requirement already satisfied: certifi in /opt/conda/lib/python3.11/site-packages (from kaggle) (2023.5.7)\n",
      "Requirement already satisfied: python-dateutil in /opt/conda/lib/python3.11/site-packages (from kaggle) (2.8.2)\n",
      "Requirement already satisfied: requests in /opt/conda/lib/python3.11/site-packages (from kaggle) (2.31.0)\n",
      "Requirement already satisfied: tqdm in /opt/conda/lib/python3.11/site-packages (from kaggle) (4.65.0)\n",
      "Requirement already satisfied: python-slugify in /opt/conda/lib/python3.11/site-packages (from kaggle) (8.0.1)\n",
      "Requirement already satisfied: urllib3 in /opt/conda/lib/python3.11/site-packages (from kaggle) (2.0.2)\n",
      "Requirement already satisfied: text-unidecode>=1.3 in /opt/conda/lib/python3.11/site-packages (from python-slugify->kaggle) (1.3)\n",
      "Requirement already satisfied: charset-normalizer<4,>=2 in /opt/conda/lib/python3.11/site-packages (from requests->kaggle) (3.1.0)\n",
      "Requirement already satisfied: idna<4,>=2.5 in /opt/conda/lib/python3.11/site-packages (from requests->kaggle) (3.4)\n"
     ]
    }
   ],
   "source": [
    "!pip install kaggle"
   ]
  },
  {
   "cell_type": "code",
   "execution_count": 4,
   "id": "96baebe4-2807-4a9b-ba94-d8366c4277f3",
   "metadata": {},
   "outputs": [
    {
     "name": "stdout",
     "output_type": "stream",
     "text": [
      "employee-attrition-and-factors.zip: Skipping, found more recently modified local copy (use --force to force download)\n"
     ]
    }
   ],
   "source": [
    "import kaggle\n",
    "!kaggle datasets download -d thedevastator/employee-attrition-and-factors"
   ]
  },
  {
   "cell_type": "markdown",
   "id": "bf2c687e-5782-4e22-a5b4-6307caab5cd6",
   "metadata": {},
   "source": [
    "### Load to DataFrame"
   ]
  },
  {
   "cell_type": "code",
   "execution_count": 5,
   "id": "9b53cb66-ad97-4f34-b14f-f389427c8ce3",
   "metadata": {},
   "outputs": [],
   "source": [
    "# Extract from zip\n",
    "zip = ZipFile(\"employee-attrition-and-factors.zip\", 'r')\n",
    "zip.extractall()"
   ]
  },
  {
   "cell_type": "code",
   "execution_count": 6,
   "id": "aeaac94b-d9c9-478d-8aeb-591cd39c923a",
   "metadata": {},
   "outputs": [],
   "source": [
    "# Read into Pandas DataFrame\n",
    "data = pd.read_csv('HR_Analytics.csv.csv')"
   ]
  },
  {
   "cell_type": "markdown",
   "id": "534e29fd-8dff-41ef-8c59-b7282e7853cd",
   "metadata": {},
   "source": [
    "## Exploratory Data Analysis"
   ]
  },
  {
   "cell_type": "code",
   "execution_count": 7,
   "id": "0e1913f6-3aca-447d-a723-d404e20f1c26",
   "metadata": {},
   "outputs": [
    {
     "data": {
      "text/plain": [
       "(1470, 35)"
      ]
     },
     "execution_count": 7,
     "metadata": {},
     "output_type": "execute_result"
    }
   ],
   "source": [
    "data.shape"
   ]
  },
  {
   "cell_type": "code",
   "execution_count": 8,
   "id": "08c8067d-9ce4-40b4-bc09-3dec7c321c55",
   "metadata": {},
   "outputs": [
    {
     "name": "stdout",
     "output_type": "stream",
     "text": [
      "<class 'pandas.core.frame.DataFrame'>\n",
      "RangeIndex: 1470 entries, 0 to 1469\n",
      "Data columns (total 35 columns):\n",
      " #   Column                    Non-Null Count  Dtype \n",
      "---  ------                    --------------  ----- \n",
      " 0   Age                       1470 non-null   int64 \n",
      " 1   Attrition                 1470 non-null   object\n",
      " 2   BusinessTravel            1470 non-null   object\n",
      " 3   DailyRate                 1470 non-null   int64 \n",
      " 4   Department                1470 non-null   object\n",
      " 5   DistanceFromHome          1470 non-null   int64 \n",
      " 6   Education                 1470 non-null   int64 \n",
      " 7   EducationField            1470 non-null   object\n",
      " 8   EmployeeCount             1470 non-null   int64 \n",
      " 9   EmployeeNumber            1470 non-null   int64 \n",
      " 10  EnvironmentSatisfaction   1470 non-null   int64 \n",
      " 11  Gender                    1470 non-null   object\n",
      " 12  HourlyRate                1470 non-null   int64 \n",
      " 13  JobInvolvement            1470 non-null   int64 \n",
      " 14  JobLevel                  1470 non-null   int64 \n",
      " 15  JobRole                   1470 non-null   object\n",
      " 16  JobSatisfaction           1470 non-null   int64 \n",
      " 17  MaritalStatus             1470 non-null   object\n",
      " 18  MonthlyIncome             1470 non-null   int64 \n",
      " 19  MonthlyRate               1470 non-null   int64 \n",
      " 20  NumCompaniesWorked        1470 non-null   int64 \n",
      " 21  Over18                    1470 non-null   object\n",
      " 22  OverTime                  1470 non-null   object\n",
      " 23  PercentSalaryHike         1470 non-null   int64 \n",
      " 24  PerformanceRating         1470 non-null   int64 \n",
      " 25  RelationshipSatisfaction  1470 non-null   int64 \n",
      " 26  StandardHours             1470 non-null   int64 \n",
      " 27  StockOptionLevel          1470 non-null   int64 \n",
      " 28  TotalWorkingYears         1470 non-null   int64 \n",
      " 29  TrainingTimesLastYear     1470 non-null   int64 \n",
      " 30  WorkLifeBalance           1470 non-null   int64 \n",
      " 31  YearsAtCompany            1470 non-null   int64 \n",
      " 32  YearsInCurrentRole        1470 non-null   int64 \n",
      " 33  YearsSinceLastPromotion   1470 non-null   int64 \n",
      " 34  YearsWithCurrManager      1470 non-null   int64 \n",
      "dtypes: int64(26), object(9)\n",
      "memory usage: 402.1+ KB\n"
     ]
    }
   ],
   "source": [
    "data.info()"
   ]
  },
  {
   "cell_type": "code",
   "execution_count": 9,
   "id": "6bb37989-6bf6-4a17-87fe-31d3c52ab1f1",
   "metadata": {},
   "outputs": [
    {
     "data": {
      "text/plain": [
       "Age                           43\n",
       "Attrition                      2\n",
       "BusinessTravel                 3\n",
       "DailyRate                    886\n",
       "Department                     3\n",
       "DistanceFromHome              29\n",
       "Education                      5\n",
       "EducationField                 6\n",
       "EmployeeCount                  1\n",
       "EmployeeNumber              1470\n",
       "EnvironmentSatisfaction        4\n",
       "Gender                         2\n",
       "HourlyRate                    71\n",
       "JobInvolvement                 4\n",
       "JobLevel                       5\n",
       "JobRole                        9\n",
       "JobSatisfaction                4\n",
       "MaritalStatus                  3\n",
       "MonthlyIncome               1349\n",
       "MonthlyRate                 1427\n",
       "NumCompaniesWorked            10\n",
       "Over18                         1\n",
       "OverTime                       2\n",
       "PercentSalaryHike             15\n",
       "PerformanceRating              2\n",
       "RelationshipSatisfaction       4\n",
       "StandardHours                  1\n",
       "StockOptionLevel               4\n",
       "TotalWorkingYears             40\n",
       "TrainingTimesLastYear          7\n",
       "WorkLifeBalance                4\n",
       "YearsAtCompany                37\n",
       "YearsInCurrentRole            19\n",
       "YearsSinceLastPromotion       16\n",
       "YearsWithCurrManager          18\n",
       "dtype: int64"
      ]
     },
     "execution_count": 9,
     "metadata": {},
     "output_type": "execute_result"
    }
   ],
   "source": [
    "data.nunique()"
   ]
  },
  {
   "cell_type": "code",
   "execution_count": 10,
   "id": "7359f501-7ca0-4564-969c-28b1647ea099",
   "metadata": {},
   "outputs": [
    {
     "data": {
      "text/plain": [
       "EmployeeCount    1\n",
       "Over18           1\n",
       "StandardHours    1\n",
       "dtype: int64"
      ]
     },
     "execution_count": 10,
     "metadata": {},
     "output_type": "execute_result"
    }
   ],
   "source": [
    "data.nunique()[data.nunique()<2]"
   ]
  },
  {
   "cell_type": "code",
   "execution_count": 11,
   "id": "225d38d7-efac-4ed0-b4b9-4f8ccb3def93",
   "metadata": {},
   "outputs": [
    {
     "data": {
      "text/plain": [
       "DailyRate          886\n",
       "EmployeeNumber    1470\n",
       "HourlyRate          71\n",
       "MonthlyIncome     1349\n",
       "MonthlyRate       1427\n",
       "dtype: int64"
      ]
     },
     "execution_count": 11,
     "metadata": {},
     "output_type": "execute_result"
    }
   ],
   "source": [
    "data.nunique()[data.nunique()>50]"
   ]
  },
  {
   "cell_type": "markdown",
   "id": "3ecb1981-2c8d-4915-a79b-09aa1b852f5f",
   "metadata": {},
   "source": [
    "**Observation:**\n",
    "- Employee Number is a high cardinality feature that will be removed before model building as it has potential for bias\n",
    "- The other features with high cardinality have significant information\n",
    "- EmployeeCount, Over18, StandardHours are low cardinality features and will also be removed"
   ]
  },
  {
   "cell_type": "code",
   "execution_count": 12,
   "id": "16a81895-ccc4-4ac7-885d-e2592cc9e4f8",
   "metadata": {},
   "outputs": [],
   "source": [
    "drop_columns = ['EmployeeNumber', 'EmployeeCount', 'Over18', 'StandardHours']"
   ]
  },
  {
   "cell_type": "markdown",
   "id": "aca5ac43-8659-4cfe-95ac-a6250325bd26",
   "metadata": {},
   "source": [
    "\n",
    "### 1. What is the distribution of age among the employees in the organization?"
   ]
  },
  {
   "cell_type": "code",
   "execution_count": 13,
   "id": "87aef7b4-1298-4bb3-88af-1bee6bf79521",
   "metadata": {},
   "outputs": [
    {
     "data": {
      "text/plain": [
       "(18, 60)"
      ]
     },
     "execution_count": 13,
     "metadata": {},
     "output_type": "execute_result"
    }
   ],
   "source": [
    "min_age = data['Age'].min()\n",
    "max_age = data['Age'].max()\n",
    "min_age, max_age"
   ]
  },
  {
   "cell_type": "code",
   "execution_count": 14,
   "id": "44f8ef77-b68c-433a-aabb-42415633c431",
   "metadata": {},
   "outputs": [
    {
     "data": {
      "image/png": "[encoded data removed]",
      "text/plain": [
       "<Figure size 1200x400 with 1 Axes>"
      ]
     },
     "metadata": {},
     "output_type": "display_data"
    }
   ],
   "source": [
    "# Define the number of bins and calculate the bin width\n",
    "num_bins = 10\n",
    "bin_width = (max_age - min_age) / num_bins\n",
    "\n",
    "ages = data['Age']\n",
    "\n",
    "# Calculate the count of each age\n",
    "unique_ages, counts = np.unique(ages, return_counts=True)\n",
    "\n",
    "# Plotting the counts per age\n",
    "plt.figure(figsize=(12,4))\n",
    "plt.bar(unique_ages, counts)\n",
    "plt.xlabel('Age')\n",
    "plt.ylabel('Count')\n",
    "plt.title('Distribution of Age among Employees')\n",
    "\n",
    "# Set x-ticks for every age in the range 18 to 60\n",
    "plt.xticks(range(18, 61,3), rotation= 45, ha='right')\n",
    "\n",
    "plt.show()"
   ]
  },
  {
   "cell_type": "markdown",
   "id": "399beead-e6e6-44e1-a573-b8a2b226a1a5",
   "metadata": {},
   "source": [
    "**Observation:**\n",
    "- From age 18 to 29, there is an increase in the number of employees increase in age.\n",
    "- Ages between 29 to around age 40 form the core of the organization with the highest number of employees per age.\n",
    "- From Age 42 onwards, there is a general decline in number of employees with increase in age."
   ]
  },
  {
   "cell_type": "markdown",
   "id": "77880f0c-5c86-4e19-b484-9860b4e40a79",
   "metadata": {},
   "source": [
    "### 2. Is there a significant difference in attrition rates between male and female employees?"
   ]
  },
  {
   "cell_type": "code",
   "execution_count": 15,
   "id": "881bcb52-97a7-4cbf-9121-ee70754123d9",
   "metadata": {},
   "outputs": [
    {
     "data": {
      "image/png": "[encoded data removed]",
      "text/plain": [
       "<Figure size 640x480 with 1 Axes>"
      ]
     },
     "metadata": {},
     "output_type": "display_data"
    }
   ],
   "source": [
    "# Create a contingency table of attrition and gender\n",
    "contingency_table = pd.crosstab(data['Attrition'], data['Gender'])\n",
    "\n",
    "# Plot the bar chart\n",
    "contingency_table.plot(kind='bar')\n",
    "\n",
    "# Set the plot labels and title\n",
    "plt.xlabel('Attrition')\n",
    "plt.ylabel('Count')\n",
    "plt.title('Attrition Rates by Gender')\n",
    "\n",
    "# Show the plot\n",
    "plt.show()"
   ]
  },
  {
   "cell_type": "markdown",
   "id": "873b6ea1-f773-434f-8608-fa9239d133bc",
   "metadata": {},
   "source": [
    "**Observation:**\n",
    "- Based on the bar chart, there is no clear indication that the gender affects attrition"
   ]
  },
  {
   "cell_type": "markdown",
   "id": "22bdeb92-c6d0-4476-a445-c3df70f96798",
   "metadata": {},
   "source": [
    "#### Perform Chi-square Test"
   ]
  },
  {
   "cell_type": "markdown",
   "id": "920a26b6-025b-4504-a04f-865277e005df",
   "metadata": {},
   "source": [
    "**<i>H<sub>o</sub></i>** : There is no association between gender and attrition  \n",
    "**<i>H<sub>o</sub></i>** : There is an association between gender and attrition  \n",
    "**$\\alpha$** = 0.05"
   ]
  },
  {
   "cell_type": "code",
   "execution_count": 16,
   "id": "5d29357f-f6f5-4de7-903e-549e16e78d79",
   "metadata": {},
   "outputs": [
    {
     "name": "stdout",
     "output_type": "stream",
     "text": [
      "Chi-square test statistic: 1.275216\n",
      "p-value: 0.258790\n"
     ]
    }
   ],
   "source": [
    "# Perform the chi-square test\n",
    "chi2, p_value, _, _ = st.chi2_contingency(contingency_table, correction=False)\n",
    "\n",
    "# Print the chi-square test statistic and p-value\n",
    "print(f\"Chi-square test statistic: {chi2:4f}\")\n",
    "print(f\"p-value: {p_value:4f}\")"
   ]
  },
  {
   "cell_type": "markdown",
   "id": "b784e20f-d157-49d8-bc6c-3c3a7a611971",
   "metadata": {},
   "source": [
    "**Conclusion:**\n",
    "- The p-value of 0.258 is greater than 0.05, hence we fail to reject the null hypothesis that the 2 variables are independent and conclude that there is no systemic association between the gender and attrition"
   ]
  },
  {
   "cell_type": "markdown",
   "id": "e36cbbd8-90f2-485b-8ef3-83fed1a7b7cb",
   "metadata": {},
   "source": [
    "### 3. How does the distance from home to the office impact employee attrition?"
   ]
  },
  {
   "cell_type": "code",
   "execution_count": 17,
   "id": "62683c5a-2f32-45cc-abc3-d6eddf4e46b8",
   "metadata": {},
   "outputs": [
    {
     "data": {
      "image/png": "[encoded data removed]",
      "text/plain": [
       "<Figure size 800x600 with 1 Axes>"
      ]
     },
     "metadata": {},
     "output_type": "display_data"
    }
   ],
   "source": [
    "# Create a box plot\n",
    "plt.figure(figsize=(8, 6))\n",
    "plt.boxplot([data[data['Attrition'] == 'Yes']['DistanceFromHome'], data[data['Attrition'] == 'No']['DistanceFromHome']], labels=['Attrition: Yes', 'Attrition: No'])\n",
    "plt.xlabel('Attrition')\n",
    "plt.ylabel('Distance from Home (Miles)')\n",
    "plt.title('Impact of Distance from Home on Employee Attrition')\n",
    "plt.yticks(data['DistanceFromHome'], data['DistanceFromHome'])\n",
    "plt.show()"
   ]
  },
  {
   "cell_type": "markdown",
   "id": "3354d588-90a8-456c-aad6-af94ac6a169c",
   "metadata": {},
   "source": [
    "**Observation:**\n",
    "- There is a slight difference in the mean distance from home for the difference attrition outcomes, with YES having 9 and NO 7\n",
    "- Both groups have a minimum distance value of 1 mile and a maximum value of 29 miles\n",
    "- The first quartile values have only one mile separating them with YES at 3 and NO at 2\n",
    "- There is a huge difference in the third quartile with YES at 17 and NO 13"
   ]
  },
  {
   "cell_type": "markdown",
   "id": "52b884bc-f773-4cbb-b226-4c38794134ab",
   "metadata": {},
   "source": [
    "#### Perform T-Test"
   ]
  },
  {
   "cell_type": "markdown",
   "id": "73d5ef34-de54-4218-bbb3-d9b291082c87",
   "metadata": {},
   "source": [
    "We perform a T-Test for YES and NO groupings to check for a difference in the distance from   \n",
    "    **<i>H<sub>o</sub></i>** : There is no difference in distance from home for the difference attrition outcomes  \n",
    "    **<i>H<sub>a</sub></i>** : There is a difference in distance from home for the difference attrition outcomes  \n",
    "    **$\\alpha$** = 0.05"
   ]
  },
  {
   "cell_type": "code",
   "execution_count": 18,
   "id": "ab348653-e7e3-4130-822e-3c867c23e5be",
   "metadata": {},
   "outputs": [
    {
     "name": "stdout",
     "output_type": "stream",
     "text": [
      "T-Statistic: 2.888183\n",
      "P-Value: 0.004137\n"
     ]
    }
   ],
   "source": [
    "# Subset the data for each group\n",
    "attrition_yes = data[data['Attrition'] == 'Yes']['DistanceFromHome']\n",
    "attrition_no = data[data['Attrition'] == 'No']['DistanceFromHome']\n",
    "\n",
    "# Perform the t-test\n",
    "t_stat, p_value = st.ttest_ind(attrition_yes, attrition_no, equal_var=False) ## equal_var = False due to data imbalance\n",
    "\n",
    "# Print the t-statistic and p-value\n",
    "print(f\"T-Statistic: {t_stat:4f}\")\n",
    "print(f\"P-Value: {p_value:4f}\")"
   ]
  },
  {
   "cell_type": "markdown",
   "id": "a1bbcd5f-3a83-4825-95ce-ed1c1ce9fc8f",
   "metadata": {},
   "source": [
    "**Conclusion:**\n",
    "- A p_value of 0.004137 is less than 0.05, thus we reject the null hypothesis and accept the alternate hypothesis\n",
    "- Hence, there is a difference in distance from home for the difference attrition outcomes"
   ]
  },
  {
   "cell_type": "markdown",
   "id": "082b480f-a258-4423-ab32-21ce40dd10cf",
   "metadata": {},
   "source": [
    "#### Pearsonr to Identify nature of relationship"
   ]
  },
  {
   "cell_type": "markdown",
   "id": "e62a28b8-e1c0-4e99-8e46-8cdba37ff937",
   "metadata": {},
   "source": [
    "**<i>H<sub>o</sub></i>** : There is no connection between the distance from home and the attrition outcome  \n",
    "**<i>H<sub>a</sub></i>** : There is a connection between the distance from home and the attrition outcome   \n",
    "**$\\alpha$** = 0.05"
   ]
  },
  {
   "cell_type": "code",
   "execution_count": 19,
   "id": "cc2de952-4367-4f97-a02c-cbcb40de0a49",
   "metadata": {},
   "outputs": [
    {
     "name": "stdout",
     "output_type": "stream",
     "text": [
      "Correlation Coefficient: -0.081399\n",
      "P-Value: 0.211822\n"
     ]
    }
   ],
   "source": [
    "# Set the random seed for reproducibility\n",
    "np.random.seed(42)\n",
    "\n",
    "# Determine the size of the downsampled attrition_yes array\n",
    "downsample_size = len(attrition_yes)\n",
    "\n",
    "# Randomly select observations from attrition_yes to create the downsampled array\n",
    "downsampled_attrition_no = np.random.choice(attrition_no, size=downsample_size, replace=False)\n",
    "\n",
    "# Perform the statistical tests or analysis using the downsampled arrays\n",
    "correlation, p_value = st.pearsonr(downsampled_attrition_no, attrition_yes)\n",
    "\n",
    "# Print the correlation coefficient and p-value\n",
    "print(f\"Correlation Coefficient: {correlation:4f}\")\n",
    "print(f\"P-Value: {p_value:4f}\")"
   ]
  },
  {
   "cell_type": "markdown",
   "id": "7c38dd22-8cf8-40dc-9013-033f7f5c336b",
   "metadata": {},
   "source": [
    "**Conclusion:**\n",
    "- A p-value of 0.211, greater than 0.05, means that we fail to reject our null hypothesis and conclude that there is not enough evidence to conclude a significant correlation between attrition and distance from home.\n",
    "- The correlation coefficient of -0.081399 indicates a weak negative correlation, but it is not statistically significant.\n",
    "- Based on the previous t-test, we identify the presence of a relationship thought the pearson correlation test concludes that this relationship is not statistically significant"
   ]
  },
  {
   "cell_type": "markdown",
   "id": "762b6383-447a-4030-94ae-f3de38487f85",
   "metadata": {},
   "source": [
    "**Potential Bias issue:**"
   ]
  },
  {
   "cell_type": "code",
   "execution_count": 20,
   "id": "b99c512b-4195-4a93-aa7f-1d7ed3d51b25",
   "metadata": {},
   "outputs": [
    {
     "data": {
      "image/png": "[encoded data removed]",
      "text/plain": [
       "<Figure size 640x480 with 1 Axes>"
      ]
     },
     "metadata": {},
     "output_type": "display_data"
    }
   ],
   "source": [
    "attrition_counts = data['Attrition'].value_counts(normalize=True)\n",
    "\n",
    "# Create a bar chart\n",
    "plt.bar(attrition_counts.index, attrition_counts.values)\n",
    "\n",
    "# Add labels and title\n",
    "plt.xlabel('Attrition')\n",
    "plt.ylabel('Proportion of Total')\n",
    "plt.title('Attrition Distribution')\n",
    "\n",
    "# Display the plot\n",
    "plt.show()\n"
   ]
  },
  {
   "cell_type": "markdown",
   "id": "e854ecc4-37c1-4dd3-8a0a-449e77fc5b15",
   "metadata": {},
   "source": [
    "- Due to the large imbalance in the two classes in the Attrition variable, The Majority Class was downsampled during calculation of Pearson Correlation.\n",
    "- Please note that downsampling the data may introduce some uncertainty and potential loss of information due to the reduced sample size. It is important to interpret the results with caution and consider the limitations of downsampling on the analysis."
   ]
  },
  {
   "cell_type": "markdown",
   "id": "78173023-18a3-49e3-9cc7-5e5999b5ae4b",
   "metadata": {},
   "source": [
    "### 4. What is the relationship between education level and job level within the organization?"
   ]
  },
  {
   "cell_type": "code",
   "execution_count": 21,
   "id": "21f904e0-2f4b-4cc1-84f5-e9278f5af511",
   "metadata": {},
   "outputs": [
    {
     "data": {
      "image/png": "[encoded data removed]",
      "text/plain": [
       "<Figure size 800x600 with 1 Axes>"
      ]
     },
     "metadata": {},
     "output_type": "display_data"
    }
   ],
   "source": [
    "# Create a stacked bar plot\n",
    "plt.figure(figsize=(8, 6))\n",
    "sns.countplot(data, x='Education', hue='JobLevel')\n",
    "plt.xlabel('Education Level')\n",
    "plt.ylabel('Count')\n",
    "plt.title('Distribution of Job Levels by Education Level')\n",
    "plt.legend(title='Job Level')\n",
    "plt.tight_layout()\n",
    "plt.show()"
   ]
  },
  {
   "cell_type": "markdown",
   "id": "e5c4a2a9-3e34-47da-9ccc-822c4af08738",
   "metadata": {},
   "source": [
    "**Observation:**\n",
    "- Education level 3 is has the most employees in the various job levels in the company\n",
    "- Education level 6 has the least employees in the various levels in the company\n",
    "- Further analysis is required to identify the possible relationship between the two variables"
   ]
  },
  {
   "cell_type": "markdown",
   "id": "47fc30be-6635-421a-aa01-824b206ba6bf",
   "metadata": {},
   "source": [
    "#### Perform Chi-square Test and Cramér's V statistic\n",
    "**<i>H<sub>o</sub></i>** : There is no association between job level and education  \n",
    "**<i>H<sub>o</sub></i>** : There is an association between job level and education  \n",
    "**$\\alpha$** = 0.05"
   ]
  },
  {
   "cell_type": "code",
   "execution_count": 22,
   "id": "11a0981a-38b6-4d23-9f1f-512939344651",
   "metadata": {},
   "outputs": [
    {
     "name": "stdout",
     "output_type": "stream",
     "text": [
      "Chi-square statistic: 61.17582022468589\n",
      "P-value: 3.3127738726606886e-07\n",
      "Cramér's V statistic: 0.10200025028704611\n"
     ]
    }
   ],
   "source": [
    "# Create a contingency table of education level and job level\n",
    "contingency_table = pd.crosstab(data['Education'], data['JobLevel'])\n",
    "\n",
    "# Perform the chi-square test\n",
    "chi2, p_value, _, _ = st.chi2_contingency(contingency_table)\n",
    "\n",
    "# Calculate the Cramér's V statistic\n",
    "n = contingency_table.sum().sum()\n",
    "phi2 = chi2 / n\n",
    "r, k = contingency_table.shape\n",
    "cramer_v = np.sqrt(phi2 / min((r - 1), (k - 1)))\n",
    "\n",
    "# Print the test results\n",
    "print(f\"Chi-square statistic: {chi2}\")\n",
    "print(f\"P-value: {p_value}\")\n",
    "print(f\"Cramér's V statistic: {cramer_v:}\")"
   ]
  },
  {
   "cell_type": "markdown",
   "id": "604f80aa-f440-4cbb-9693-3b6b0faa743b",
   "metadata": {},
   "source": [
    "**Conclusion:**\n",
    "- The p-value of 3.313e-07 indicates strong evidence against the null hypothesis of independence. Hence we reject the null hypothesis and accept the alternate hypothesis\n",
    "- Based on the Cramér's V statistic of 0.102 and the chi-square statistic of 61.176, there is a statistically significant association between education level and job level within the organization.\n",
    "- The Cramér's V statistic measures the strength of association between categorical variables, while the chi-square statistic tests the independence of these variables. In this case, both statistics suggest that there is a significant relationship between education level and job level.\n",
    "- The small effect size (Cramér's V = 0.102) indicates a weak practical significance of the association. However, the statistical significance (p-value < 0.05) suggests that the association is unlikely to be due to chance alone."
   ]
  },
  {
   "cell_type": "markdown",
   "id": "6d161f09-ed57-45ec-b420-6d2c9a00ab23",
   "metadata": {},
   "source": [
    "### 5. Is there a correlation between job satisfaction and monthly income?"
   ]
  },
  {
   "cell_type": "markdown",
   "id": "c2983717-330e-47b2-a96b-16a029982980",
   "metadata": {},
   "source": [
    "#### Perform Pearson Correlation Test\n",
    "**<i>H<sub>o</sub></i>** : There is no connection between job satisfaction and monthly income  \n",
    "**<i>H<sub>a</sub></i>** : There is a connection between job satisfaction and monthly income  \n",
    "**$\\alpha$** = 0.05"
   ]
  },
  {
   "cell_type": "code",
   "execution_count": 23,
   "id": "c92fc92c-8456-4a87-ae1a-2329d678b708",
   "metadata": {},
   "outputs": [
    {
     "name": "stdout",
     "output_type": "stream",
     "text": [
      "Correlation Coefficient: -0.0072\n",
      "P-Value: 0.7840\n"
     ]
    }
   ],
   "source": [
    "job_satisfaction = data['JobSatisfaction']\n",
    "monthly_income = data['MonthlyIncome']\n",
    "\n",
    "# Calculate correlation coefficient and p-value\n",
    "correlation, p_value = st.pearsonr(job_satisfaction, monthly_income)\n",
    "\n",
    "# Print the results\n",
    "print(f\"Correlation Coefficient: {correlation:.4f}\")\n",
    "print(f\"P-Value: {p_value:.4f}\")"
   ]
  },
  {
   "cell_type": "markdown",
   "id": "26c21ecf-00c2-426f-9f41-f431a6fb9862",
   "metadata": {},
   "source": [
    "**Conclusion:**\n",
    "- The p-value of 0.7840 is greater than the alpha value, 0.05.\n",
    "- Hence, we fail to reject the null hypothesis and conclude that there is no statistically significant relationship between job satisfaction and monthly income.\n",
    "- The correlation coefficient being close to zero suggests a very weak correlation between job satisfaction and monthly income. However, it is not statistically significant"
   ]
  },
  {
   "cell_type": "markdown",
   "id": "e070a696-2b42-494f-9d55-3e47fb78f3fa",
   "metadata": {},
   "source": [
    "### 6. Does the number of companies previously worked for have an effect on attrition rates?"
   ]
  },
  {
   "cell_type": "markdown",
   "id": "86776e52-09dd-4a98-b853-ef2b4dd7d75b",
   "metadata": {},
   "source": [
    "#### Perform Chi-square Test and Cramér's V statistic\n",
    "**<i>H<sub>o</sub></i>** : There is no association between the number of companies previously worked for and attrition   \n",
    "**<i>H<sub>o</sub></i>** : There is an association between the number of companies previously worked for and attrition  \n",
    "**$\\alpha$** = 0.05"
   ]
  },
  {
   "cell_type": "code",
   "execution_count": 24,
   "id": "15410da2-65dc-4ba4-9ef7-37519c07a165",
   "metadata": {},
   "outputs": [
    {
     "name": "stdout",
     "output_type": "stream",
     "text": [
      "Chi-square test statistic: 25.744404\n",
      "p-value: 0.002249\n",
      "Cramér's V statistic: 0.1323374485313073\n"
     ]
    }
   ],
   "source": [
    "# Create a contingency table\n",
    "contingency_table = pd.crosstab(data['Attrition'], data['NumCompaniesWorked'])\n",
    "\n",
    "# Perform the chi-square test\n",
    "chi2, p_value, _, _ = st.chi2_contingency(contingency_table)\n",
    "\n",
    "# Calculate the Cramér's V statistic\n",
    "n = contingency_table.sum().sum()\n",
    "phi2 = chi2 / n\n",
    "r, k = contingency_table.shape\n",
    "cramer_v = np.sqrt(phi2 / min((r - 1), (k - 1)))\n",
    "\n",
    "# Print the chi-square statistic and p-value\n",
    "print(f\"Chi-square test statistic: {chi2:4f}\")\n",
    "print(f\"p-value: {p_value:4f}\")\n",
    "print(f\"Cramér's V statistic: {cramer_v:}\")"
   ]
  },
  {
   "cell_type": "markdown",
   "id": "a22893f5-3bd1-46aa-8581-31c34fd6bb0e",
   "metadata": {},
   "source": [
    "**Conclusion:**\n",
    "- The p-value of 0.002249(less than 0.05) indicates that the observed relationship between the number of companies previously worked for and attrition rates is statistically significant. In other words, the likelihood of observing such an association by chance alone is very low. \n",
    "- Therefore, we can reject the null hypothesis that there is no association between these variables.\n",
    "- The Cramér's value suggests a moderate level of association between the variables."
   ]
  },
  {
   "cell_type": "markdown",
   "id": "1a06ee78-75d0-4b3e-b932-0774a7435565",
   "metadata": {},
   "source": [
    "## 7. What Features have a Significant Impact on Attrition"
   ]
  },
  {
   "cell_type": "markdown",
   "id": "e658cc93-ebe6-4871-99ed-f8489f22e188",
   "metadata": {},
   "source": [
    "- Modelling will be used to answer this question  \n",
    "- Due the focus is on explainability of the model, logistic regression and tree based models will be explored  \n",
    "- This is because this models allow to extract feature importances helping to drive decision making\n",
    "- My focus will be on the 5 most positive features and the 5 most negative features\n",
    "- Based on the result, further analysis may be done in order to ensure results given to management are truthful  \n",
    "- This analysis will occur to also identify potential bias issues\n",
    "- Due to the small sample size, we will only split the data to train and test set and use grid search for validation"
   ]
  },
  {
   "cell_type": "markdown",
   "id": "68752457-1422-4330-9710-825380221c81",
   "metadata": {},
   "source": [
    "#### Train Test Split"
   ]
  },
  {
   "cell_type": "code",
   "execution_count": 25,
   "id": "47bef2ba-e2a1-4d61-8126-cc6337d13f3b",
   "metadata": {},
   "outputs": [],
   "source": [
    "# Make a copy of data\n",
    "model_df = data.copy()\n",
    "\n",
    "# Specify target\n",
    "target = 'Attrition'\n",
    "\n",
    "# Make target column binary numeric\n",
    "model_df[target] = np.where(model_df['Attrition'] == 'Yes', 1, 0)"
   ]
  },
  {
   "cell_type": "code",
   "execution_count": 26,
   "id": "ea5202f9-0370-46ab-ab5d-5e71e94911f7",
   "metadata": {},
   "outputs": [],
   "source": [
    "# Shuffle the dataset to randomize the order of samples\n",
    "shuffled_df = shuffle(model_df, random_state=42)\n",
    "\n",
    "drop_columns.append(target)\n",
    "# Separate features and target variable\n",
    "X = shuffled_df.drop(drop_columns, axis=1) ## Ensure to drop high cardinality Feature\n",
    "y = shuffled_df[target]\n",
    "\n",
    "# Split the dataset into train and test sets, maintaining the class distribution\n",
    "X_train, X_test, y_train, y_test = train_test_split(X, y, test_size=0.2, random_state=42)\n"
   ]
  },
  {
   "cell_type": "markdown",
   "id": "c8cad30e-c6ba-4661-a18b-b73481cfffa1",
   "metadata": {},
   "source": [
    "### Training Models"
   ]
  },
  {
   "cell_type": "markdown",
   "id": "6b4ace3c-4316-486f-985b-f869197d64d7",
   "metadata": {},
   "source": [
    "#### Logistic Regression"
   ]
  },
  {
   "cell_type": "code",
   "execution_count": 27,
   "id": "ed0be49d-fe19-4a0a-be2a-243ce28726ee",
   "metadata": {},
   "outputs": [
    {
     "name": "stdout",
     "output_type": "stream",
     "text": [
      "Best Parameters: {'model__C': 10, 'model__penalty': 'l1', 'model__solver': 'liblinear', 'scaler__with_mean': False, 'scaler__with_std': True}\n",
      "              precision    recall  f1-score   support\n",
      "\n",
      "           0     0.8970    0.9778    0.9357       989\n",
      "           1     0.7755    0.4064    0.5333       187\n",
      "\n",
      "    accuracy                         0.8869      1176\n",
      "   macro avg     0.8363    0.6921    0.7345      1176\n",
      "weighted avg     0.8777    0.8869    0.8717      1176\n",
      "\n"
     ]
    }
   ],
   "source": [
    "# Create the pipeline\n",
    "lr_pipeline = Pipeline([\n",
    "    ('encoder', OrdinalEncoder()),\n",
    "    ('scaler', StandardScaler()),\n",
    "    ('model', LogisticRegression())\n",
    "])\n",
    "\n",
    "# Set the hyperparameters manually\n",
    "lr_params= {\n",
    "    'scaler__with_mean': [True, False],\n",
    "    'scaler__with_std': [True, False],\n",
    "    'model__penalty': ['l1', 'l2'],\n",
    "    'model__C': [0.1, 1, 10],\n",
    "    'model__solver': ['liblinear', 'saga']\n",
    "}\n",
    "\n",
    "# Create the grid search object\n",
    "lr_grid = GridSearchCV(lr_pipeline, param_grid=lr_params, scoring='f1', cv=5)\n",
    "\n",
    "# Fit the grid search to the data\n",
    "lr_grid.fit(X, y)\n",
    "\n",
    "# Make predictions on the train set\n",
    "y_hat_lr = lr_grid.predict(X_train)\n",
    "\n",
    "# Get Report\n",
    "lr_report = classification_report(y_train, y_hat_lr, digits=4)\n",
    "\n",
    "# Print the best parameters and best F1 score\n",
    "print(\"Best Parameters:\", lr_grid.best_params_)\n",
    "print(lr_report)"
   ]
  },
  {
   "cell_type": "markdown",
   "id": "84db6947-0d6b-4d3e-8a33-197639ba295d",
   "metadata": {},
   "source": [
    "#### Random Forest"
   ]
  },
  {
   "cell_type": "code",
   "execution_count": 28,
   "id": "b448c9a1-5ab7-4bf5-b2e5-36b919b23824",
   "metadata": {},
   "outputs": [
    {
     "name": "stdout",
     "output_type": "stream",
     "text": [
      "Best Parameters: {'classifier__max_depth': 12, 'classifier__min_samples_split': 4, 'classifier__n_estimators': 12}\n",
      "              precision    recall  f1-score   support\n",
      "\n",
      "           0     0.9687    1.0000    0.9841       989\n",
      "           1     1.0000    0.8289    0.9064       187\n",
      "\n",
      "    accuracy                         0.9728      1176\n",
      "   macro avg     0.9843    0.9144    0.9453      1176\n",
      "weighted avg     0.9736    0.9728    0.9717      1176\n",
      "\n"
     ]
    }
   ],
   "source": [
    "# Create the pipeline with Random Forest classifier\n",
    "rf_pipeline = Pipeline([\n",
    "    ('encoder', OrdinalEncoder()),\n",
    "    ('scaler', StandardScaler()),\n",
    "    ('classifier', RandomForestClassifier(random_state=42))\n",
    "])\n",
    "\n",
    "# Define the parameter grid for GridSearchCV\n",
    "rf_params = {\n",
    "    'classifier__n_estimators': range(1,17),\n",
    "    'classifier__max_depth': range(1,20),\n",
    "    'classifier__min_samples_split': range(2,5)\n",
    "}\n",
    "\n",
    "# Initialize GridSearchCV\n",
    "rf_grid = GridSearchCV(rf_pipeline, param_grid = rf_params, scoring='f1', cv=6)\n",
    "\n",
    "# Fit the grid search to the training data\n",
    "rf_grid.fit(X_train, y_train)\n",
    "\n",
    "# Get the best model from the grid search\n",
    "rf_best_model = rf_grid.best_estimator_\n",
    "\n",
    "\n",
    "# Make predictions on the train set\n",
    "y_hat_rf = rf_best_model.predict(X_train)\n",
    "\n",
    "# Print classification report with f1, precision, and recall\n",
    "rf_report = classification_report(y_train, y_hat_rf, digits=4)\n",
    "\n",
    "# Print the best parameters and best F1 score\n",
    "print(\"Best Parameters:\", rf_grid.best_params_)\n",
    "print(rf_report)"
   ]
  },
  {
   "cell_type": "markdown",
   "id": "30adcb75-5e55-4a36-9474-c7608510b61b",
   "metadata": {},
   "source": [
    "#### XGBoost"
   ]
  },
  {
   "cell_type": "code",
   "execution_count": 29,
   "id": "4f9af829-e7e5-4b97-b830-4bbcdca6a3ae",
   "metadata": {},
   "outputs": [
    {
     "name": "stdout",
     "output_type": "stream",
     "text": [
      "Best Parameters: {'model__learning_rate': 0.1, 'model__max_depth': 7, 'model__n_estimators': 300}\n",
      "              precision    recall  f1-score   support\n",
      "\n",
      "           0     1.0000    1.0000    1.0000       989\n",
      "           1     1.0000    1.0000    1.0000       187\n",
      "\n",
      "    accuracy                         1.0000      1176\n",
      "   macro avg     1.0000    1.0000    1.0000      1176\n",
      "weighted avg     1.0000    1.0000    1.0000      1176\n",
      "\n"
     ]
    }
   ],
   "source": [
    "# Create the pipeline\n",
    "xg_pipeline = Pipeline([\n",
    "    ('encoder', OrdinalEncoder()),\n",
    "    ('scaler', StandardScaler()),\n",
    "    ('model', XGBClassifier())\n",
    "])\n",
    "\n",
    "# Define the hyperparameter grid\n",
    "xg_params = {\n",
    "    'model__n_estimators': [100, 200, 300],\n",
    "    'model__max_depth': [3, 5, 7],\n",
    "    'model__learning_rate': [0.1, 0.01, 0.001]\n",
    "}\n",
    "\n",
    "# Create the grid search object\n",
    "xg_grid = GridSearchCV(xg_pipeline, param_grid=xg_params, scoring='f1', cv=5)\n",
    "\n",
    "# Fit the grid search to the data\n",
    "xg_grid.fit(X, y)\n",
    "\n",
    "# Get the best model from the grid search\n",
    "xg_best_model = xg_grid.best_estimator_\n",
    "\n",
    "# Make predictions on the train set\n",
    "y_hat_xg = xg_best_model.predict(X_train)\n",
    "\n",
    "# Print classification report with f1, precision, and recall\n",
    "xg_report = classification_report(y_train, y_hat_xg, digits=4)\n",
    "\n",
    "# Print the best parameters and best F1 score\n",
    "print(\"Best Parameters:\", xg_grid.best_params_)\n",
    "print(xg_report)"
   ]
  },
  {
   "cell_type": "markdown",
   "id": "ceb9e936-1342-49ac-9ff5-f3f8bd292f72",
   "metadata": {},
   "source": [
    "#### LightGBM"
   ]
  },
  {
   "cell_type": "code",
   "execution_count": 30,
   "id": "77f0dbca-d1b6-4434-ac31-46615677f6af",
   "metadata": {},
   "outputs": [
    {
     "name": "stdout",
     "output_type": "stream",
     "text": [
      "Best Parameters: {'model__learning_rate': 0.1, 'model__max_depth': 3, 'model__n_estimators': 300}\n",
      "              precision    recall  f1-score   support\n",
      "\n",
      "           0     0.9900    1.0000    0.9950       989\n",
      "           1     1.0000    0.9465    0.9725       187\n",
      "\n",
      "    accuracy                         0.9915      1176\n",
      "   macro avg     0.9950    0.9733    0.9837      1176\n",
      "weighted avg     0.9916    0.9915    0.9914      1176\n",
      "\n"
     ]
    }
   ],
   "source": [
    "# Create the pipeline\n",
    "lgb_pipeline = Pipeline([\n",
    "    ('encoder', OrdinalEncoder()),\n",
    "    ('scaler', StandardScaler()),\n",
    "    ('model', LGBMClassifier())\n",
    "])\n",
    "\n",
    "# Define the hyperparameter grid\n",
    "lgb_params = {\n",
    "    'model__n_estimators': [100, 200, 300],\n",
    "    'model__max_depth': [3, 5, 7],\n",
    "    'model__learning_rate': [0.1, 0.01, 0.001]\n",
    "}\n",
    "\n",
    "# Create the grid search object\n",
    "lgb_grid = GridSearchCV(lgb_pipeline, param_grid=lgb_params, scoring='f1', cv=5)\n",
    "\n",
    "# Fit the grid search to the data\n",
    "lgb_grid.fit(X, y)\n",
    "\n",
    "# Get the best model from the grid search\n",
    "lgb_best_model = lgb_grid.best_estimator_\n",
    "\n",
    "# Make predictions on the train set\n",
    "y_hat_lgb = lgb_best_model.predict(X_train)\n",
    "\n",
    "# Print classification report with f1, precision, and recall\n",
    "lgb_report = classification_report(y_train, y_hat_lgb, digits=4)\n",
    "\n",
    "# Print the best parameters and best F1 score\n",
    "print(\"Best Parameters:\", lgb_grid.best_params_)\n",
    "print(lgb_report)"
   ]
  },
  {
   "cell_type": "code",
   "execution_count": 31,
   "id": "5b605fce-9308-4ad2-b66d-e67fb56a8323",
   "metadata": {},
   "outputs": [],
   "source": [
    "## Train Scores\n",
    "# Linear Regression\n",
    "f1_lr = f1_score(y_train, y_hat_lr)\n",
    "pr_lr = precision_score(y_train, y_hat_lr)\n",
    "rc_lr = recall_score(y_train, y_hat_lr)\n",
    "\n",
    "# Random Forest\n",
    "f1_rf = f1_score(y_train, y_hat_rf)\n",
    "pr_rf = precision_score(y_train, y_hat_rf)\n",
    "rc_rf = recall_score(y_train, y_hat_rf)\n",
    "\n",
    "# XGBoost\n",
    "f1_xg = f1_score(y_train, y_hat_xg)\n",
    "pr_xg = precision_score(y_train, y_hat_xg)\n",
    "rc_xg = recall_score(y_train, y_hat_xg)\n",
    "\n",
    "\n",
    "# LightGBM\n",
    "f1_lgb = f1_score(y_train, y_hat_lgb)\n",
    "pr_lgb = precision_score(y_train, y_hat_lgb)\n",
    "rc_lgb = recall_score(y_train, y_hat_lgb)\n",
    "\n",
    "train_scores = pd.DataFrame({\n",
    "    \"models\": ['Linear Regression','Random Forest', 'XGBoost', 'LightGBM'],\n",
    "    'train_f1': [f1_lr, f1_rf, f1_xg, f1_lgb],\n",
    "    'train_precision' : [pr_lr, pr_rf, pr_xg, pr_lgb],\n",
    "    'train_recall' : [rc_lr, rc_rf, rc_xg, rc_lgb]\n",
    "}).set_index('models')"
   ]
  },
  {
   "cell_type": "markdown",
   "id": "3eeeadae-a5e5-43bb-a877-33f7d61fd0c4",
   "metadata": {},
   "source": [
    "### Evaluation on Test Set"
   ]
  },
  {
   "cell_type": "markdown",
   "id": "82d9013e-f517-40a4-83fd-8fc73512e17b",
   "metadata": {},
   "source": [
    "#### Making Predictions"
   ]
  },
  {
   "cell_type": "code",
   "execution_count": 32,
   "id": "ad572146-2464-44fb-b901-bded249c2b4e",
   "metadata": {},
   "outputs": [],
   "source": [
    "y_pred_lr = lr_grid.predict(X_test)\n",
    "y_pred_rf = rf_grid.predict(X_test)\n",
    "y_pred_xg = xg_grid.predict(X_test)\n",
    "y_pred_lgb = lgb_grid.predict(X_test)"
   ]
  },
  {
   "cell_type": "markdown",
   "id": "9373828e-2c9f-461f-9d68-201afbc41347",
   "metadata": {},
   "source": [
    "#### Evaluation"
   ]
  },
  {
   "cell_type": "code",
   "execution_count": 33,
   "id": "139b5c25-6c94-4de0-ac47-d2c59a3bf237",
   "metadata": {},
   "outputs": [
    {
     "data": {
      "text/html": [
       "<div>\n",
       "<style scoped>\n",
       "    .dataframe tbody tr th:only-of-type {\n",
       "        vertical-align: middle;\n",
       "    }\n",
       "\n",
       "    .dataframe tbody tr th {\n",
       "        vertical-align: top;\n",
       "    }\n",
       "\n",
       "    .dataframe thead th {\n",
       "        text-align: right;\n",
       "    }\n",
       "</style>\n",
       "<table border=\"1\" class=\"dataframe\">\n",
       "  <thead>\n",
       "    <tr style=\"text-align: right;\">\n",
       "      <th></th>\n",
       "      <th>test_f1</th>\n",
       "      <th>test_precision</th>\n",
       "      <th>test_recall</th>\n",
       "    </tr>\n",
       "    <tr>\n",
       "      <th>models</th>\n",
       "      <th></th>\n",
       "      <th></th>\n",
       "      <th></th>\n",
       "    </tr>\n",
       "  </thead>\n",
       "  <tbody>\n",
       "    <tr>\n",
       "      <th>Linear Regression</th>\n",
       "      <td>0.613333</td>\n",
       "      <td>0.920000</td>\n",
       "      <td>0.46</td>\n",
       "    </tr>\n",
       "    <tr>\n",
       "      <th>Random Forest</th>\n",
       "      <td>0.343750</td>\n",
       "      <td>0.785714</td>\n",
       "      <td>0.22</td>\n",
       "    </tr>\n",
       "    <tr>\n",
       "      <th>XGBoost</th>\n",
       "      <td>1.000000</td>\n",
       "      <td>1.000000</td>\n",
       "      <td>1.00</td>\n",
       "    </tr>\n",
       "    <tr>\n",
       "      <th>LightGBM</th>\n",
       "      <td>0.969072</td>\n",
       "      <td>1.000000</td>\n",
       "      <td>0.94</td>\n",
       "    </tr>\n",
       "  </tbody>\n",
       "</table>\n",
       "</div>"
      ],
      "text/plain": [
       "                    test_f1  test_precision  test_recall\n",
       "models                                                  \n",
       "Linear Regression  0.613333        0.920000         0.46\n",
       "Random Forest      0.343750        0.785714         0.22\n",
       "XGBoost            1.000000        1.000000         1.00\n",
       "LightGBM           0.969072        1.000000         0.94"
      ]
     },
     "execution_count": 33,
     "metadata": {},
     "output_type": "execute_result"
    }
   ],
   "source": [
    "# Linear Regression\n",
    "f1_lr = f1_score(y_test, y_pred_lr)\n",
    "pr_lr = precision_score(y_test, y_pred_lr)\n",
    "rc_lr = recall_score(y_test, y_pred_lr)\n",
    "\n",
    "# Random Forest\n",
    "f1_rf = f1_score(y_test, y_pred_rf)\n",
    "pr_rf = precision_score(y_test, y_pred_rf)\n",
    "rc_rf = recall_score(y_test, y_pred_rf)\n",
    "\n",
    "# XGBoost\n",
    "f1_xg = f1_score(y_test, y_pred_xg)\n",
    "pr_xg = precision_score(y_test, y_pred_xg)\n",
    "rc_xg = recall_score(y_test, y_pred_xg)\n",
    "\n",
    "\n",
    "# LightGBM\n",
    "f1_lgb = f1_score(y_test, y_pred_lgb)\n",
    "pr_lgb = precision_score(y_test, y_pred_lgb)\n",
    "rc_lgb = recall_score(y_test, y_pred_lgb)\n",
    "\n",
    "test_scores = pd.DataFrame({\n",
    "    \"models\": ['Linear Regression','Random Forest', 'XGBoost', 'LightGBM'],\n",
    "    'test_f1': [f1_lr, f1_rf, f1_xg, f1_lgb],\n",
    "    'test_precision' : [pr_lr, pr_rf, pr_xg, pr_lgb],\n",
    "    'test_recall' : [rc_lr, rc_rf, rc_xg, rc_lgb]\n",
    "}).set_index('models')\n",
    "test_scores"
   ]
  },
  {
   "cell_type": "markdown",
   "id": "ef2234ad-6bcb-443b-9c7e-9acccf98f31e",
   "metadata": {},
   "source": [
    "#### Combined DataFrame of Train and Test Scores"
   ]
  },
  {
   "cell_type": "code",
   "execution_count": 34,
   "id": "431d8318-3f2b-4818-9872-ad08fd0c4103",
   "metadata": {},
   "outputs": [
    {
     "data": {
      "text/html": [
       "<div>\n",
       "<style scoped>\n",
       "    .dataframe tbody tr th:only-of-type {\n",
       "        vertical-align: middle;\n",
       "    }\n",
       "\n",
       "    .dataframe tbody tr th {\n",
       "        vertical-align: top;\n",
       "    }\n",
       "\n",
       "    .dataframe thead th {\n",
       "        text-align: right;\n",
       "    }\n",
       "</style>\n",
       "<table border=\"1\" class=\"dataframe\">\n",
       "  <thead>\n",
       "    <tr style=\"text-align: right;\">\n",
       "      <th></th>\n",
       "      <th>train_f1</th>\n",
       "      <th>train_precision</th>\n",
       "      <th>train_recall</th>\n",
       "      <th>test_f1</th>\n",
       "      <th>test_precision</th>\n",
       "      <th>test_recall</th>\n",
       "    </tr>\n",
       "    <tr>\n",
       "      <th>models</th>\n",
       "      <th></th>\n",
       "      <th></th>\n",
       "      <th></th>\n",
       "      <th></th>\n",
       "      <th></th>\n",
       "      <th></th>\n",
       "    </tr>\n",
       "  </thead>\n",
       "  <tbody>\n",
       "    <tr>\n",
       "      <th>Linear Regression</th>\n",
       "      <td>0.533333</td>\n",
       "      <td>0.77551</td>\n",
       "      <td>0.406417</td>\n",
       "      <td>0.613333</td>\n",
       "      <td>0.920000</td>\n",
       "      <td>0.46</td>\n",
       "    </tr>\n",
       "    <tr>\n",
       "      <th>Random Forest</th>\n",
       "      <td>0.906433</td>\n",
       "      <td>1.00000</td>\n",
       "      <td>0.828877</td>\n",
       "      <td>0.343750</td>\n",
       "      <td>0.785714</td>\n",
       "      <td>0.22</td>\n",
       "    </tr>\n",
       "    <tr>\n",
       "      <th>XGBoost</th>\n",
       "      <td>1.000000</td>\n",
       "      <td>1.00000</td>\n",
       "      <td>1.000000</td>\n",
       "      <td>1.000000</td>\n",
       "      <td>1.000000</td>\n",
       "      <td>1.00</td>\n",
       "    </tr>\n",
       "    <tr>\n",
       "      <th>LightGBM</th>\n",
       "      <td>0.972527</td>\n",
       "      <td>1.00000</td>\n",
       "      <td>0.946524</td>\n",
       "      <td>0.969072</td>\n",
       "      <td>1.000000</td>\n",
       "      <td>0.94</td>\n",
       "    </tr>\n",
       "  </tbody>\n",
       "</table>\n",
       "</div>"
      ],
      "text/plain": [
       "                   train_f1  train_precision  train_recall   test_f1  \\\n",
       "models                                                                 \n",
       "Linear Regression  0.533333          0.77551      0.406417  0.613333   \n",
       "Random Forest      0.906433          1.00000      0.828877  0.343750   \n",
       "XGBoost            1.000000          1.00000      1.000000  1.000000   \n",
       "LightGBM           0.972527          1.00000      0.946524  0.969072   \n",
       "\n",
       "                   test_precision  test_recall  \n",
       "models                                          \n",
       "Linear Regression        0.920000         0.46  \n",
       "Random Forest            0.785714         0.22  \n",
       "XGBoost                  1.000000         1.00  \n",
       "LightGBM                 1.000000         0.94  "
      ]
     },
     "execution_count": 34,
     "metadata": {},
     "output_type": "execute_result"
    }
   ],
   "source": [
    "pd.concat([train_scores, test_scores], axis=1)"
   ]
  },
  {
   "cell_type": "markdown",
   "id": "c93984d7-9efb-4ddc-8947-fb4f6f279df5",
   "metadata": {},
   "source": [
    "**Observation:**\n",
    "- XGBoost and LightGBM Models are our top 2 models.\n",
    "- XGBoost performs best on train and test sets across all metrics"
   ]
  },
  {
   "cell_type": "markdown",
   "id": "1fbbe8bb-8f18-43b6-a64c-f99216fecc69",
   "metadata": {},
   "source": [
    "### Get Feature Importances from LightGBM model"
   ]
  },
  {
   "cell_type": "markdown",
   "id": "71fdc798-65c6-4837-a85c-9af0ccde582a",
   "metadata": {},
   "source": [
    "#### Results"
   ]
  },
  {
   "cell_type": "code",
   "execution_count": 35,
   "id": "1eca6956-691b-48e4-960c-032b95ad34dc",
   "metadata": {},
   "outputs": [],
   "source": [
    "importances = lgb_best_model.named_steps['model'].feature_importances_\n",
    "feature_names = lgb_best_model.named_steps['encoder'].get_feature_names_out()\n",
    "\n",
    "feature_importance = pd.Series(importances, index=feature_names).sort_values()"
   ]
  },
  {
   "cell_type": "code",
   "execution_count": 40,
   "id": "58bc4087-fd01-4ad5-afe0-c966e9367d0e",
   "metadata": {},
   "outputs": [
    {
     "data": {
      "image/png": "[encoded data removed]",
      "text/plain": [
       "<Figure size 640x480 with 1 Axes>"
      ]
     },
     "metadata": {},
     "output_type": "display_data"
    }
   ],
   "source": [
    "feature_importance.tail(10).plot(kind = 'barh', \n",
    "                                 xlabel = 'Degreee of Importance',\n",
    "                                 title = 'LightGBM Top 10 Most Important Features'\n",
    "                                  )\n",
    "plt.show()"
   ]
  },
  {
   "cell_type": "markdown",
   "id": "0f561407-a1ed-4974-b086-e8db25b07829",
   "metadata": {},
   "source": [
    "- Monthly income proves to be the largest contributor to attrition\n",
    "- Monthly income, daily rate and monthly rate are huge contributors, signifying a need to look at remuneration of employees\n",
    "- Age, and jobrole having a high importance values signify that there is a certain group of employees that are unsatisfied, further analysis is required to identify the group and their characteristics, as well as the changes in their work environment for the duration.\n",
    "- The above demographic makes the argument that there is no clearly defined path for job promotion and elevation"
   ]
  },
  {
   "cell_type": "markdown",
   "id": "1d7b8589-92f8-431c-be1b-e0581080c54f",
   "metadata": {},
   "source": [
    "### Get Feature Importances from XGBoost model"
   ]
  },
  {
   "cell_type": "markdown",
   "id": "cb5c97f2-6370-4cf9-bc6e-11010d4f9ee5",
   "metadata": {},
   "source": [
    "#### Results"
   ]
  },
  {
   "cell_type": "code",
   "execution_count": 41,
   "id": "c4def478-27e7-4620-b419-c55d2ce4e5a6",
   "metadata": {},
   "outputs": [],
   "source": [
    "importances_xg = xg_best_model.named_steps['model'].feature_importances_\n",
    "feature_names_xg = xg_best_model.named_steps['encoder'].get_feature_names_out()\n",
    "\n",
    "feature_importance_xg = pd.Series(importances_xg, index=feature_names_xg).sort_values()"
   ]
  },
  {
   "cell_type": "code",
   "execution_count": 42,
   "id": "b91079de-e1a4-4e0a-9de4-b4bd7ceeb98b",
   "metadata": {},
   "outputs": [
    {
     "data": {
      "image/png": "[encoded data removed]",
      "text/plain": [
       "<Figure size 640x480 with 1 Axes>"
      ]
     },
     "metadata": {},
     "output_type": "display_data"
    }
   ],
   "source": [
    "feature_importance_xg.tail(10).plot(kind = 'barh', \n",
    "                                 xlabel = 'Degreee of Importance',\n",
    "                                 title = 'XGBoost Top 10 Most Important Features'\n",
    "                                  )\n",
    "plt.show()"
   ]
  },
  {
   "cell_type": "markdown",
   "id": "288cc36d-cc20-4f9f-9327-0caf3cfb84b0",
   "metadata": {},
   "source": [
    "### Recommendations:\n",
    "\n",
    "1. Compensation and Benefits: Considering the significant impact of MonthlyIncome and related factors, it is crucial to ensure competitive compensation packages that align with industry standards. Regular reviews and adjustments to salaries and benefits can help retain employees.\n",
    "\n",
    "2. Career Progression: Since Age and JobRole was found to influence attrition, establishing clear career progression paths and providing regular opportunities for professional development and advancement can increase employee engagement and loyalty.\n",
    "\n",
    "3. Employee Engagement: Implementing strategies to enhance overall employee engagement, such as regular feedback mechanisms, open communication channels, and employee wellness programs, can contribute to higher job satisfaction and lower attrition.\n",
    "\n",
    "4. To address the issue of distance from home and its impact on attrition, the following recommendations can be considered:\n",
    "\n",
    "    - Flexible Work Arrangements: Introduce flexible work arrangements such as telecommuting or remote work options. Allowing employees to work from home a few days a week can significantly reduce commuting time and expenses, improving their overall work-life balance.\n",
    "\n",
    "    - Relocation Assistance: Provide relocation assistance or incentives for employees who need to move closer to the office. This can help alleviate the burden of long commutes and make the transition more feasible for employees.\n",
    "\n",
    "    - Satellite Offices or Remote Work Hubs: Establish satellite offices or remote work hubs in different geographical locations. This allows employees to work from a location closer to their homes, reducing the time and effort required for daily commuting.\n",
    "\n",
    "    - Commuting Support: Offer commuting support programs such as subsidized public transportation passes or carpooling initiatives. This can help reduce the financial burden and stress associated with long commutes.\n",
    "\n",
    "    - Employee Housing Assistance: Explore partnerships or programs that provide affordable housing options near the workplace. This can be especially beneficial for employees who face significant challenges in finding suitable housing near the office.\n",
    "\n",
    "    - Employee Transportation Services: Consider implementing shuttle services or arranging transportation options for employees, especially in areas with limited public transportation access. This can make commuting more convenient and less stressful for employees.\n"
   ]
  }
 ],
 "metadata": {
  "kernelspec": {
   "display_name": "Python 3 (ipykernel)",
   "language": "python",
   "name": "python3"
  },
  "language_info": {
   "codemirror_mode": {
    "name": "ipython",
    "version": 3
   },
   "file_extension": ".py",
   "mimetype": "text/x-python",
   "name": "python",
   "nbconvert_exporter": "python",
   "pygments_lexer": "ipython3",
   "version": "3.11.3"
  }
 },
 "nbformat": 4,
 "nbformat_minor": 5
}
